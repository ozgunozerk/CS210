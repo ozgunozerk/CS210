{
 "cells": [
  {
   "cell_type": "markdown",
   "metadata": {},
   "source": [
    "# Project Description: \n",
    "\n",
    "A database about Taxi's in New York will be inspected in the scope of this project. First, information about the dataset itself will be given, such as descriptive statistics, datatypes, shapes, etc... After that, Some interesting information will be tried to be drived from the dataset, for example the most common districts for pickup/drop-off locations. And finally, 2 questions will be answered using the help of statistics:\n",
    "1. Does passenger group size affect the distance?\n",
    "2. Do trip distances increase in weekends?"
   ]
  },
  {
   "cell_type": "markdown",
   "metadata": {},
   "source": [
    "### Import Statements\n",
    "These import statements are necessary for our program to run"
   ]
  },
  {
   "cell_type": "code",
   "execution_count": null,
   "metadata": {},
   "outputs": [],
   "source": [
    "import numpy as np\n",
    "import pandas as pd\n",
    "from collections import Counter\n",
    "import reverse_geocoder as rg\n",
    "from geopy.distance import geodesic\n",
    "import seaborn as sns\n",
    "import matplotlib.pyplot as plt\n",
    "from scipy import stats\n",
    "import datetime\n"
   ]
  },
  {
   "cell_type": "markdown",
   "metadata": {},
   "source": [
    "### Information about the data:\n",
    "\n",
    "All the descriptive statistics, shapes, datatypes, etc... will be given in here"
   ]
  },
  {
   "cell_type": "code",
   "execution_count": null,
   "metadata": {},
   "outputs": [],
   "source": [
    "database = pd.read_csv(\"taxi-trips.csv\")\n",
    "print(\"Descriptive statistics of the database: \", database.describe(include = \"all\"))\n",
    "print(\"Correlations: \", database.corr())\n",
    "print(\"Covariance matrix: \", database.cov())\n",
    "print(\"Shape of the Database: \", database.shape)\n",
    "print(\"Datatypes: \", database.dtypes)"
   ]
  },
  {
   "cell_type": "markdown",
   "metadata": {},
   "source": [
    "### Extracting the pickup and drop-off latitude and longitudes\n",
    "\n",
    "Not much to explain here, pandas dataframe structure is used"
   ]
  },
  {
   "cell_type": "code",
   "execution_count": null,
   "metadata": {},
   "outputs": [],
   "source": [
    "\n",
    "# col no 6-7 pickup longtitude latitude\n",
    "# col no 8-9 dropoff longtitude latitude\n",
    "\n",
    "pickup_lon = database['pickup_longitude']  # extract pickup longitude\n",
    "pickup_lat = database['pickup_latitude']  # etract pickup latitude\n",
    "pick_coor = pd.DataFrame(pickup_lat)  # create a new dataframe for latitude\n",
    "pick_coor['pickup_longitude'] = pickup_lon  # add longitude to that dataframe, now we have pickup coordinates\n",
    "\n",
    "# same thing for the drop locations(below) with pickup locations(above)\n",
    "drop_lon = database['dropoff_longitude']\n",
    "drop_lat = database['dropoff_latitude']\n",
    "drop_coor = pd.DataFrame(drop_lat)\n",
    "drop_coor['dropoff_longitude'] = drop_lon\n"
   ]
  },
  {
   "cell_type": "markdown",
   "metadata": {},
   "source": [
    "### Getting the name of locations for pickup/drop-off\n",
    "\n",
    "Longitude and lattitude values are given as coordinates, they need to be converted into real names using Reverse-Geocoding,\n",
    "\n",
    "### Calculating distances and adding them into Database\n",
    "\n",
    "With the locations, we can calculate the distances between pickup/drop-off locations, and then we will store them in the database"
   ]
  },
  {
   "cell_type": "code",
   "execution_count": null,
   "metadata": {},
   "outputs": [],
   "source": [
    "# turning the dataframe row into tuples since Reverse-Geocode requires tuples\n",
    "pick_coor = [tuple(x) for x in pick_coor.values]\n",
    "drop_coor = [tuple(x) for x in drop_coor.values]\n",
    "\n",
    "# running Reverse-Geocode and getting the results\n",
    "pick_res = rg.search(pick_coor)\n",
    "drop_res = rg.search(drop_coor)\n",
    "\n",
    "# storing the location values in an array, which located in dictionary under 'name' key\n",
    "pick_locs = [x['name'] for x in pick_res]\n",
    "drop_locs = [x['name'] for x in drop_res]\n",
    "\n",
    "# adding new columns to the database (pickup and dropoff locations)\n",
    "database['pickup_district'] = pick_locs\n",
    "database['dropoff_district'] = drop_locs\n",
    "\n",
    "# getting the distances via geopy and adding them to the dataframe\n",
    "distances = [geodesic(pick_coor[x], drop_coor[x]).miles for x in range(len(pick_coor))]\n",
    "database['distance'] = distances\n"
   ]
  },
  {
   "cell_type": "markdown",
   "metadata": {},
   "source": [
    "### Getting the 5 most popular districts for pickup/drop-off locations\n",
    "\n",
    "Via (Collections, counter, most_common method)"
   ]
  },
  {
   "cell_type": "code",
   "execution_count": null,
   "metadata": {},
   "outputs": [],
   "source": [
    "\n",
    "\n",
    "# getting the 5 most common leave and arrival districts from the database and storing them\n",
    "c = Counter(database['pickup_district'])\n",
    "most_common_pickup_Locations = c.most_common(5)\n",
    "c = Counter(database['dropoff_district'])\n",
    "most_common_dropoff_Locations = c.most_common(5)\n"
   ]
  },
  {
   "cell_type": "markdown",
   "metadata": {},
   "source": [
    "### Adding time_of_day column, also calculating average trip distances and durations on the way\n",
    "\n",
    "By extracting pickup_datetime column's \"TIME\" value, I set 5 time intervals (rush_hour_morning, afternoon, rush_hour_evening, evening, late_night). And for every row that is being inspected at the moment, duration and distance of that respective row is stored in an array, which will be used to calculate average trip duration and distances for every time interval"
   ]
  },
  {
   "cell_type": "code",
   "execution_count": null,
   "metadata": {},
   "outputs": [],
   "source": [
    "# extracting travel durations\n",
    "durations = database['trip_duration'].values\n",
    "\n",
    "# extracting pickup times from the databse and selecting the hour part only\n",
    "time = database['pickup_datetime']\n",
    "time = [int(time[x][11:13]) for x in range(len(time))]\n",
    "\n",
    "\n",
    "# assigning string values to specific time intervals, then adding those into to main data as a new column\n",
    "# also calculating average distances and average trip durations for these specific time intervals\n",
    "avg_distances = [0,0,0,0,0]\n",
    "avg_durations = [0,0,0,0,0]\n",
    "for x in range(len(time)):\n",
    "    hour = time[x]\n",
    "    if 7 <= hour <= 9:\n",
    "        time[x] = \"rush_hour_morning\"\n",
    "        avg_distances[0] += distances[x]\n",
    "        avg_durations[0] += durations[x]\n",
    "    elif 9 < hour <= 16:\n",
    "        time[x] = \"afternoon\"\n",
    "        avg_distances[1] += distances[x]\n",
    "        avg_durations[1] += durations[x]\n",
    "    elif 16 < hour <= 18:\n",
    "        time[x] = \"rush_hour_evening\"\n",
    "        avg_distances[2] += distances[x]\n",
    "        avg_durations[2] += durations[x]\n",
    "    elif 18 < hour <= 23:\n",
    "        time[x] = \"evening\"\n",
    "        avg_distances[3] += distances[x]\n",
    "        avg_durations[3] += durations[x]\n",
    "    else:\n",
    "        time[x] = \"late_night\"\n",
    "        avg_distances[4] += distances[x]\n",
    "        avg_durations[4] += durations[x]\n",
    "\n",
    "database['time_of_day'] = time\n",
    "\n",
    "\n",
    "avg_time = database.groupby(by='time_of_day').mean()[\"distance\"]\n",
    "print(\"X-axis symbolizes distance in km\")\n",
    "plt.figure()\n",
    "avg_time.plot(kind=\"barh\")\n",
    "plt.show()\n",
    "\n",
    "avg_time = database.groupby(by='time_of_day').mean()[\"trip_duration\"]\n",
    "print(\"X-axis symbolizes duration\")\n",
    "avg_time.plot(kind=\"barh\")\n",
    "plt.show()"
   ]
  },
  {
   "cell_type": "markdown",
   "metadata": {},
   "source": [
    "### Answering the question \"Does passenger group size affect the distance?\". \n",
    "\n",
    "Null-hyptothesis claims that it does not affect.\n",
    "First, let's get the mean distances for during weekday travel distance and during weekend travel distance to have an idea, afterwards a t-test will be applied to all the respective data."
   ]
  },
  {
   "cell_type": "code",
   "execution_count": null,
   "metadata": {},
   "outputs": [],
   "source": [
    "print(\"Mean distance when there is only 1 passenger in miles:\",database['distance'][database['passenger_count']==1].mean())\n",
    "print(\"Mean distance when there are more than 1 passenger in miles:\",database['distance'][database['passenger_count']>1].mean())\n",
    "\n",
    "one_pass_distance = database['distance'][database['passenger_count']==1]\n",
    "multiple_pass_distance =database['distance'][database['passenger_count']>1]\n",
    "\n",
    "ax = sns.kdeplot(one_pass_distance, shade=True)\n",
    "sns.kdeplot(multiple_pass_distance, ax=ax, shade=True)\n",
    "plt.show()\n",
    "\n",
    "p_value = stats.ttest_ind(a=one_pass_distance, b=multiple_pass_distance, equal_var=False)\n",
    "print(p_value)\n",
    "print(\"Since p value is smaller than 0.05, meaning that obtaining this result by chance is very unlikely and there is a significant difference between 2 results, so we have to reject null-hypothesis\")\n"
   ]
  },
  {
   "cell_type": "markdown",
   "metadata": {},
   "source": [
    "### Result\n",
    "As it's explained in the \"print\" statement in the code, our p-value score was lower than 0.05. This means that, there is a difference between two datasets (single passenger travel distance vs multiple passengers travel distance), and observing that difference by chance is really low, so it's most likely that passenger amount is affecting the trip distance."
   ]
  },
  {
   "cell_type": "markdown",
   "metadata": {},
   "source": [
    "### Answering the question \"Do trip distances increase in weekends?\". \n",
    "\n",
    "Null-hyptothesis claims that it does not affect.\n",
    "First, let's get the mean distances for during weekday travel distance and during weekend travel distance to have an idea, afterwards a t-test will be applied to all the respective data.\n",
    "\n",
    "For inspecting this further, a function is needed to convert numerical values into strings for days: \n",
    "such as (1 : Monday)"
   ]
  },
  {
   "cell_type": "code",
   "execution_count": null,
   "metadata": {},
   "outputs": [],
   "source": [
    "\n",
    "def timefunc(input):\n",
    "    str_input=str(input)\n",
    "    dictionary = { '1' : 'Monday' ,'2' : 'Tuesday' ,'3' : 'Wednesday' ,'4' : 'Thursday' ,'5' : 'Friday' ,'6' : 'Saturday' ,'7' : 'Sunday' }\n",
    "    year=int(str_input[0:4])\n",
    "    month=int(str_input[5:7])\n",
    "    day=int(str_input[8:10])\n",
    "    dayname=dictionary[str(datetime.datetime(year,month,day).isoweekday())]\n",
    "    return dayname\n",
    "\n",
    "database['date_time'] = database.apply(lambda database: timefunc(database['pickup_datetime']), axis=1)\n",
    "weekend=database['distance'][(database['date_time']==\"Saturday\") | (database['date_time']==\"Sunday\") ]\n",
    "weekday=database['distance'][(database['date_time']!=\"Saturday\") & (database['date_time']!=\"Sunday\") ]\n",
    "\n",
    "print(\"Mean distance when day is weekend in miles:\", weekday.mean())\n",
    "print(\"Mean distance when day is weekday in miles:\", weekend.mean())\n",
    "\n",
    "ax = sns.kdeplot(weekend.rename(\"Weekend\"), shade=True)\n",
    "sns.kdeplot(weekday.rename(\"Weekday\"), ax=ax, shade=True)\n",
    "plt.show()\n",
    "\n",
    "p_value = stats.ttest_ind(a=weekend, b=weekday, equal_var=False)\n",
    "print(p_value)\n",
    "result2=\"it can be seen that p value is 2.092414433069292e-08 which is smaller than 0.05 we cannot say that null hypthesis is true since there will be difference between distances depending on passenger is alone or there is passengers so we reject the null hypothesis, we accept the alternative hypothesis.\"\n",
    "print()\n",
    "print(result2)\n"
   ]
  },
  {
   "cell_type": "markdown",
   "metadata": {},
   "source": [
    "### Result\n",
    "As it's explained in the \"print\" statement in the code, our p-value score was lower than 0.05. This means that, there is a difference between two datasets (weekend travel distance vs weekday travel distance), and observing that difference by chance is really low, so it's most likely that passenger amount is affecting the trip distance."
   ]
  },
  {
   "cell_type": "markdown",
   "metadata": {},
   "source": [
    "### Saving the new database into a csv file\n",
    "###### Because that's the right thing to do :)"
   ]
  },
  {
   "cell_type": "code",
   "execution_count": null,
   "metadata": {},
   "outputs": [],
   "source": [
    "\n",
    "\n",
    "database.to_csv(\"newTaxiDatabase.csv\")\n"
   ]
  }
 ],
 "metadata": {
  "kernelspec": {
   "display_name": "Python 2",
   "language": "python",
   "name": "python2"
  },
  "language_info": {
   "codemirror_mode": {
    "name": "ipython",
    "version": 2
   },
   "file_extension": ".py",
   "mimetype": "text/x-python",
   "name": "python",
   "nbconvert_exporter": "python",
   "pygments_lexer": "ipython2",
   "version": "2.7.6"
  }
 },
 "nbformat": 4,
 "nbformat_minor": 1
}
